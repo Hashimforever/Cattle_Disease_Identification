{
 "cells": [
  {
   "cell_type": "code",
   "execution_count": null,
   "id": "p6nDgdfBwJhH",
   "metadata": {
    "id": "p6nDgdfBwJhH"
   },
   "outputs": [],
   "source": [
    "# import the libraries as shown below\n",
    "\n",
    "from tensorflow.keras.layers import Input, Lambda, Dense, Flatten\n",
    "from tensorflow.keras.models import Model\n",
    "from tensorflow.keras.applications.inception_v3 import InceptionV3\n",
    "from tensorflow.keras.applications.inception_v3 import preprocess_input\n",
    "from tensorflow.keras.preprocessing import image\n",
    "from tensorflow.keras.preprocessing.image import ImageDataGenerator,load_img\n",
    "from tensorflow.keras.models import Sequential\n",
    "import numpy as np\n",
    "from glob import glob\n",
    "#import matplotlib.pyplot as plt"
   ]
  },
  {
   "cell_type": "code",
   "execution_count": null,
   "id": "n1Lg92j6wJhI",
   "metadata": {
    "id": "n1Lg92j6wJhI"
   },
   "outputs": [],
   "source": [
    "# re-size all the images to this\n",
    "IMAGE_SIZE = [224, 224]\n",
    "\n"
   ]
  },
  {
   "cell_type": "code",
   "execution_count": null,
   "id": "qZQ9VNtFwJhJ",
   "metadata": {
    "id": "qZQ9VNtFwJhJ"
   },
   "outputs": [],
   "source": [
    "inception = InceptionV3(input_shape=IMAGE_SIZE + [3], weights='imagenet', include_top=False)"
   ]
  },
  {
   "cell_type": "code",
   "execution_count": null,
   "id": "E_FHusZ4wJhJ",
   "metadata": {
    "id": "E_FHusZ4wJhJ"
   },
   "outputs": [],
   "source": [
    "# don't train existing weights\n",
    "for layer in inception.layers:\n",
    "    layer.trainable = False"
   ]
  },
  {
   "cell_type": "code",
   "execution_count": null,
   "id": "lMQ_3XNhwJhK",
   "metadata": {
    "id": "lMQ_3XNhwJhK"
   },
   "outputs": [],
   "source": [
    "\n",
    "# useful for getting number of output classes\n",
    "folders = glob('/content/drive/MyDrive/processed_10000')"
   ]
  },
  {
   "cell_type": "code",
   "execution_count": null,
   "id": "RMH8Jpk1wJhK",
   "metadata": {
    "id": "RMH8Jpk1wJhK"
   },
   "outputs": [],
   "source": [
    "# our layers - you can add more if you want\n",
    "x = Flatten()(inception.output)"
   ]
  },
  {
   "cell_type": "code",
   "execution_count": null,
   "id": "XisqwDgfwJhK",
   "metadata": {
    "colab": {
     "base_uri": "https://localhost:8080/"
    },
    "id": "XisqwDgfwJhK",
    "outputId": "cc324164-7ba5-4eb5-deb3-98bd80a92a65"
   },
   "outputs": [],
   "source": [
    "prediction = Dense(5, activation='softmax')(x)\n",
    "\n",
    "# create a model object\n",
    "model = Model(inputs=inception.input, outputs=prediction)\n",
    "model.summary()"
   ]
  },
  {
   "cell_type": "code",
   "execution_count": null,
   "id": "nhIaryvbwJhK",
   "metadata": {
    "id": "nhIaryvbwJhK"
   },
   "outputs": [],
   "source": [
    "# tell the model what cost and optimization method to use\n",
    "model.compile(\n",
    "  loss='categorical_crossentropy',\n",
    "  optimizer='adam',\n",
    "  metrics=['accuracy']\n",
    ")"
   ]
  },
  {
   "cell_type": "code",
   "execution_count": null,
   "id": "g2ldze4AwJhL",
   "metadata": {
    "id": "g2ldze4AwJhL"
   },
   "outputs": [],
   "source": [
    "# Use the Image Data Generator to import the images from the dataset\n",
    "from tensorflow.keras.preprocessing.image import ImageDataGenerator\n",
    "\n",
    "train_datagen = ImageDataGenerator(rescale = 1./255)\n",
    "\n",
    "test_datagen = ImageDataGenerator(rescale = 1./255)"
   ]
  },
  {
   "cell_type": "code",
   "execution_count": null,
   "id": "2b83uL1-wJhL",
   "metadata": {
    "colab": {
     "base_uri": "https://localhost:8080/"
    },
    "id": "2b83uL1-wJhL",
    "outputId": "d58ff1f4-3cfc-4493-934e-1e7004a1e53c"
   },
   "outputs": [],
   "source": [
    "# Make sure you provide the same target size as initialied for the image size\n",
    "training_set = train_datagen.flow_from_directory('/content/drive/MyDrive/processed_10000/train',\n",
    "                                                 target_size = (224, 224),\n",
    "                                                 batch_size = 32,\n",
    "                                                 class_mode = 'categorical')"
   ]
  },
  {
   "cell_type": "code",
   "execution_count": null,
   "id": "ND8gD2KwwJhN",
   "metadata": {
    "colab": {
     "base_uri": "https://localhost:8080/"
    },
    "id": "ND8gD2KwwJhN",
    "outputId": "1092982c-a646-4ed1-ee93-df6b2c14c155"
   },
   "outputs": [],
   "source": [
    "test_set = test_datagen.flow_from_directory('/content/drive/MyDrive/processed_10000/test',\n",
    "                                            target_size = (224, 224),\n",
    "                                            batch_size = 32,\n",
    "                                            class_mode = 'categorical')\n",
    "val_set = test_datagen.flow_from_directory('/content/drive/MyDrive/processed_10000/val',\n",
    "                                            target_size = (224, 224),\n",
    "                                            batch_size = 32,\n",
    "                                            class_mode = 'categorical')"
   ]
  },
  {
   "cell_type": "code",
   "execution_count": null,
   "id": "myxGtm_XwJhN",
   "metadata": {
    "colab": {
     "base_uri": "https://localhost:8080/"
    },
    "id": "myxGtm_XwJhN",
    "outputId": "043465bb-3d3e-4b72-8bb6-7171d1ff7858"
   },
   "outputs": [],
   "source": [
    "# fit the model\n",
    "# Run the cell. It will take some time to execute\n",
    "r = model.fit(\n",
    "  training_set,\n",
    "  validation_data=test_set,\n",
    "  epochs=10,\n",
    "  steps_per_epoch=len(training_set),\n",
    "  validation_steps=len(test_set)\n",
    ")"
   ]
  },
  {
   "cell_type": "code",
   "execution_count": null,
   "id": "YujZtztlwJhN",
   "metadata": {
    "id": "YujZtztlwJhN"
   },
   "outputs": [],
   "source": [
    "import matplotlib.pyplot as plt"
   ]
  },
  {
   "cell_type": "code",
   "execution_count": null,
   "id": "-FccOvnDwJhO",
   "metadata": {
    "colab": {
     "base_uri": "https://localhost:8080/",
     "height": 293
    },
    "id": "-FccOvnDwJhO",
    "outputId": "add0a2a8-6efd-4956-8735-384569550cab"
   },
   "outputs": [],
   "source": [
    "import matplotlib.pyplot as plt\n",
    "fig , ax = plt.subplots(1,2)\n",
    "train_acc = r.history['accuracy']\n",
    "train_loss = r.history['loss']\n",
    "fig.set_size_inches(12,4)\n",
    "\n",
    "ax[0].plot(r.history['accuracy'])\n",
    "ax[0].plot(r.history['val_accuracy'])\n",
    "ax[0].set_title('Training Accuracy vs Testing Accuracy')\n",
    "ax[0].set_ylabel('Accuracy')\n",
    "ax[0].set_xlabel('Epoch')\n",
    "ax[0].legend(['Train', 'Test'], loc='upper left')\n",
    "\n",
    "ax[1].plot(r.history['loss'])\n",
    "ax[1].plot(r.history['val_loss'])\n",
    "ax[1].set_title('Training Loss vs Test Loss')\n",
    "ax[1].set_ylabel('Loss')\n",
    "ax[1].set_xlabel('Epoch')\n",
    "ax[1].legend(['Train', 'Test'], loc='upper left')\n",
    "\n",
    "plt.show()"
   ]
  },
  {
   "cell_type": "code",
   "execution_count": null,
   "id": "m1PROhPdwJhO",
   "metadata": {
    "colab": {
     "base_uri": "https://localhost:8080/"
    },
    "id": "m1PROhPdwJhO",
    "outputId": "fbd936b0-adf0-47a5-ba00-98f827997eb2"
   },
   "outputs": [],
   "source": [
    "model_history = r.history\n",
    "loss_accuracy_train = model.evaluate(training_set)\n",
    "print(\"Training Loss: {:.4f}\".format(loss_accuracy_train[0]))\n",
    "print(\"Training Accuracy: {:.2%}\".format(loss_accuracy_train[1]))\n",
    "loss_accuracy = model.evaluate(test_set)\n",
    "print(\"Test Loss: {:.4f}\".format(loss_accuracy[0]))\n",
    "print(\"Testing Accuracy: {:.2%}\".format(loss_accuracy[1]))"
   ]
  },
  {
   "cell_type": "code",
   "execution_count": null,
   "id": "Ajetqpw0wJhP",
   "metadata": {
    "colab": {
     "base_uri": "https://localhost:8080/",
     "height": 860
    },
    "id": "Ajetqpw0wJhP",
    "outputId": "da4d2368-dbd8-4398-eaba-eb348192b971"
   },
   "outputs": [],
   "source": [
    "# plot the loss\n",
    "plt.plot(r.history['loss'], label='train loss')\n",
    "plt.plot(r.history['val_loss'], label='test loss')\n",
    "plt.legend()\n",
    "plt.show()\n",
    "plt.savefig('LossVal_loss')\n",
    "\n",
    "# plot the accuracy\n",
    "plt.plot(r.history['accuracy'], label='train accuracy')\n",
    "plt.plot(r.history['val_accuracy'], label='test accuracy')\n",
    "plt.legend()\n",
    "plt.show()\n",
    "plt.savefig('AccVal_acc')"
   ]
  }
 ],
 "metadata": {
  "accelerator": "GPU",
  "colab": {
   "provenance": []
  },
  "gpuClass": "standard",
  "kernelspec": {
   "display_name": "Python 3 (ipykernel)",
   "language": "python",
   "name": "python3"
  },
  "language_info": {
   "codemirror_mode": {
    "name": "ipython",
    "version": 3
   },
   "file_extension": ".py",
   "mimetype": "text/x-python",
   "name": "python",
   "nbconvert_exporter": "python",
   "pygments_lexer": "ipython3",
   "version": "3.11.3"
  }
 },
 "nbformat": 4,
 "nbformat_minor": 5
}
