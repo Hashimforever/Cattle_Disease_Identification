{
 "cells": [
  {
   "cell_type": "code",
   "execution_count": null,
   "id": "247c9b6e",
   "metadata": {},
   "outputs": [],
   "source": [
    "import torch.nn as nn\n",
    "import torch.optim as optim\n",
    "import torchvision.models as models\n",
    "import tensorflow as tf\n",
    "from tensorflow.keras.layers import Dense, Flatten\n",
    "from tensorflow.keras.models import Model\n",
    "\n",
    "num_classes = 5\n",
    "\n",
    "class Pre_ResNet18Model(nn.Module):\n",
    "    def __init__(self, input_shape=(3, 224, 224), num_classes=5):\n",
    "        super(Pre_ResNet18Model, self).__init__()\n",
    "\n",
    "        # Load the pre-trained ResNet18 model\n",
    "        self.model = models.resnet18(pretrained=True)\n",
    "\n",
    "        # Freeze the pre-trained layers\n",
    "        for param in self.model.parameters():\n",
    "            param.requires_grad = False\n",
    "\n",
    "        # Replace the last fully connected layer with a new one that has 512 output features\n",
    "        num_ftrs = self.model.fc.in_features\n",
    "        self.model.fc = nn.Linear(num_ftrs, 256)\n",
    "\n",
    "        # Add a batch normalization layer and a new activation\n",
    "        self.model.bn = nn.BatchNorm1d(256)\n",
    "        self.model.relu = nn.ReLU(inplace=True)\n",
    "\n",
    "        # Add a dropout layer with probability 0.5\n",
    "        self.model.dropout = nn.Dropout(p=0.5)\n",
    "\n",
    "        \n",
    "        # Add a new fully connected layer with num_classes output classes and softmax activation\n",
    "        self.model.fc2 = nn.Linear(256, num_classes)\n",
    "        self.model.softmax = nn.Softmax(dim=1)\n",
    "\n",
    "        \n",
    "    def forward(self, x):\n",
    "        x = self.model(x)\n",
    "        return x\n",
    "\n",
    "\n",
    "def Pre_ResNet18Model1(**kwargs):\n",
    "    model = Pre_ResNet18Model(num_classes=5)\n",
    "    return model\n",
    "model=Pre_ResNet18Model1(num_classes=5)\n",
    "print(\"this model is Pre_ResNet18Model1\")\n",
    "print(model)\n"
   ]
  },
  {
   "cell_type": "code",
   "execution_count": null,
   "id": "7d2b138c",
   "metadata": {},
   "outputs": [],
   "source": []
  }
 ],
 "metadata": {
  "kernelspec": {
   "display_name": "Python 3 (ipykernel)",
   "language": "python",
   "name": "python3"
  },
  "language_info": {
   "codemirror_mode": {
    "name": "ipython",
    "version": 3
   },
   "file_extension": ".py",
   "mimetype": "text/x-python",
   "name": "python",
   "nbconvert_exporter": "python",
   "pygments_lexer": "ipython3",
   "version": "3.11.3"
  }
 },
 "nbformat": 4,
 "nbformat_minor": 5
}
