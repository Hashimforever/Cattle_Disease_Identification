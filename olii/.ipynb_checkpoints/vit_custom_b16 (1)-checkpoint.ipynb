{
 "cells": [
  {
   "cell_type": "code",
   "execution_count": null,
   "metadata": {
    "colab": {
     "base_uri": "https://localhost:8080/"
    },
    "executionInfo": {
     "elapsed": 4461,
     "status": "ok",
     "timestamp": 1681141542422,
     "user": {
      "displayName": "olyad temesgen",
      "userId": "12784606696873291510"
     },
     "user_tz": -180
    },
    "id": "rmJcdRTcLPvU",
    "outputId": "a74f7b30-abe3-4859-fbde-fb81613a3bdb"
   },
   "outputs": [],
   "source": [
    "# Access files from your Google Drive\n",
    "from google.colab import drive\n",
    "drive.mount('/content/gdrive')"
   ]
  },
  {
   "cell_type": "code",
   "execution_count": 1,
   "metadata": {},
   "outputs": [
    {
     "name": "stdout",
     "output_type": "stream",
     "text": [
      "Num GPUs Available:  1\n"
     ]
    }
   ],
   "source": [
    "import tensorflow as tf\n",
    "print(\"Num GPUs Available: \", len(tf.config.list_physical_devices('GPU')))"
   ]
  },
  {
   "cell_type": "code",
   "execution_count": 2,
   "metadata": {
    "colab": {
     "base_uri": "https://localhost:8080/"
    },
    "executionInfo": {
     "elapsed": 10252,
     "status": "ok",
     "timestamp": 1681141564567,
     "user": {
      "displayName": "olyad temesgen",
      "userId": "12784606696873291510"
     },
     "user_tz": -180
    },
    "id": "rFrKigBVNZH-",
    "outputId": "a32ba256-18c7-4a60-a2e1-d944c572db26"
   },
   "outputs": [
    {
     "name": "stdout",
     "output_type": "stream",
     "text": [
      "Requirement already satisfied: tensorflow-addons in c:\\programdata\\anaconda3\\envs\\ev_2\\lib\\site-packages (0.20.0)\n",
      "Requirement already satisfied: packaging in c:\\programdata\\anaconda3\\envs\\ev_2\\lib\\site-packages (from tensorflow-addons) (22.0)\n",
      "Requirement already satisfied: typeguard<3.0.0,>=2.7 in c:\\programdata\\anaconda3\\envs\\ev_2\\lib\\site-packages (from tensorflow-addons) (2.13.3)\n"
     ]
    }
   ],
   "source": [
    "!pip install -U tensorflow-addons"
   ]
  },
  {
   "cell_type": "markdown",
   "metadata": {
    "id": "i8Cqyod28S5n"
   },
   "source": [
    "# Libraries and Configurations"
   ]
  },
  {
   "cell_type": "code",
   "execution_count": 3,
   "metadata": {
    "colab": {
     "base_uri": "https://localhost:8080/"
    },
    "executionInfo": {
     "elapsed": 2984,
     "status": "ok",
     "timestamp": 1681141576307,
     "user": {
      "displayName": "olyad temesgen",
      "userId": "12784606696873291510"
     },
     "user_tz": -180
    },
    "id": "0u9BtPjP8S5p",
    "outputId": "d4f7e14a-08a7-4e2c-db4f-77d5469c47d4"
   },
   "outputs": [
    {
     "name": "stderr",
     "output_type": "stream",
     "text": [
      "C:\\ProgramData\\Anaconda3\\envs\\ev_2\\lib\\site-packages\\tensorflow_addons\\utils\\tfa_eol_msg.py:23: UserWarning: \n",
      "\n",
      "TensorFlow Addons (TFA) has ended development and introduction of new features.\n",
      "TFA has entered a minimal maintenance and release mode until a planned end of life in May 2024.\n",
      "Please modify downstream libraries to take dependencies from other repositories in our TensorFlow community (e.g. Keras, Keras-CV, and Keras-NLP). \n",
      "\n",
      "For more information see: https://github.com/tensorflow/addons/issues/2807 \n",
      "\n",
      "  warnings.warn(\n",
      "C:\\ProgramData\\Anaconda3\\envs\\ev_2\\lib\\site-packages\\tensorflow_addons\\utils\\ensure_tf_install.py:53: UserWarning: Tensorflow Addons supports using Python ops for all Tensorflow versions above or equal to 2.10.0 and strictly below 2.13.0 (nightly versions are not supported). \n",
      " The versions of TensorFlow you are currently using is 2.6.0 and is not supported. \n",
      "Some things might work, some things might not.\n",
      "If you were to encounter a bug, do not file an issue.\n",
      "If you want to make sure you're using a tested and supported configuration, either change the TensorFlow version or the TensorFlow Addons's version. \n",
      "You can find the compatibility matrix in TensorFlow Addon's readme:\n",
      "https://github.com/tensorflow/addons\n",
      "  warnings.warn(\n"
     ]
    },
    {
     "name": "stdout",
     "output_type": "stream",
     "text": [
      "TensorFlow Version 2.6.0\n"
     ]
    }
   ],
   "source": [
    "import pandas as pd\n",
    "import numpy as np\n",
    "import tensorflow as tf\n",
    "import tensorflow_addons as tfa\n",
    "import glob, warnings\n",
    "import matplotlib.pyplot as plt\n",
    "from sklearn.metrics import confusion_matrix, classification_report\n",
    "import seaborn as sns\n",
    "from keras.preprocessing.image import ImageDataGenerator\n",
    "from tensorflow.keras.models import Sequential,Model\n",
    "from tensorflow.keras.layers import Input\n",
    "from tensorflow.keras.layers import Activation, Dropout, Flatten, Dense, Conv2D, MaxPool2D, BatchNormalization,Input,MaxPooling2D,GlobalMaxPooling2D,concatenate\n",
    "warnings.filterwarnings('ignore')\n",
    "print('TensorFlow Version ' + tf.__version__)\n",
    "import cv2 \n",
    "from tensorflow.keras.optimizers import Adam"
   ]
  },
  {
   "cell_type": "code",
   "execution_count": 4,
   "metadata": {
    "executionInfo": {
     "elapsed": 3,
     "status": "ok",
     "timestamp": 1681141612558,
     "user": {
      "displayName": "olyad temesgen",
      "userId": "12784606696873291510"
     },
     "user_tz": -180
    },
    "id": "2z8Wgdx-8S5r"
   },
   "outputs": [],
   "source": [
    "image_size = 224\n",
    "batch_size = 8\n",
    "EPOCHS = 50\n",
    "\n",
    "train_data_dir = 'C:/Users/yared/Desktop/Olyad/HASHIM/WITH NEW AMD DATA/no healthy data(good)/TRAIN'\n",
    "test_data_dir = 'C:/Users/yared/Desktop/Olyad/HASHIM/WITH NEW AMD DATA/no healthy data(good)/TEST'\n"
   ]
  },
  {
   "cell_type": "markdown",
   "metadata": {
    "id": "Y-9RxcyV8S5u"
   },
   "source": [
    "# Data Generator"
   ]
  },
  {
   "cell_type": "code",
   "execution_count": 5,
   "metadata": {
    "executionInfo": {
     "elapsed": 2,
     "status": "ok",
     "timestamp": 1681141615254,
     "user": {
      "displayName": "olyad temesgen",
      "userId": "12784606696873291510"
     },
     "user_tz": -180
    },
    "id": "PX4QBYwx2Lo1"
   },
   "outputs": [],
   "source": [
    "datagen = ImageDataGenerator(\n",
    "    #horizontal_flip=True,\n",
    "    #vertical_flip=True,\n",
    "    #rotation_range=30,\n",
    "  #  width_shift_range=0.1,\n",
    " #   height_shift_range=0.1,\n",
    "  #  zoom_range=.1,\n",
    "    rescale=1/255,\n",
    "  #  fill_mode='nearest',\n",
    "  #  shear_range=0.1,\n",
    "  #  brightness_range=[0.5, 1.5],\n",
    "    validation_split=0.2)"
   ]
  },
  {
   "cell_type": "code",
   "execution_count": 6,
   "metadata": {
    "colab": {
     "base_uri": "https://localhost:8080/"
    },
    "executionInfo": {
     "elapsed": 2384,
     "status": "ok",
     "timestamp": 1681141626790,
     "user": {
      "displayName": "olyad temesgen",
      "userId": "12784606696873291510"
     },
     "user_tz": -180
    },
    "id": "5Ks8yOK-8S5u",
    "outputId": "20990f94-a378-4f55-ba7f-e9d1672bf71d"
   },
   "outputs": [
    {
     "name": "stdout",
     "output_type": "stream",
     "text": [
      "Found 7354 images belonging to 6 classes.\n",
      "Found 1835 images belonging to 6 classes.\n",
      "Found 1153 images belonging to 6 classes.\n"
     ]
    }
   ],
   "source": [
    "train_generator = datagen.flow_from_directory(\n",
    "        train_data_dir,\n",
    "        target_size = (image_size, image_size),\n",
    "        batch_size=batch_size,\n",
    "        class_mode='categorical',  \n",
    "        subset='training')\n",
    " \n",
    "\n",
    "validation_generator = datagen.flow_from_directory(\n",
    "        train_data_dir,\n",
    "        target_size = (image_size, image_size),\n",
    "        batch_size=batch_size,\n",
    "        class_mode='categorical', \n",
    "        subset='validation',\n",
    "        shuffle=False)\n",
    "\n",
    "test_datagen = ImageDataGenerator(rescale=1./255)\n",
    "test_generator = test_datagen.flow_from_directory(\n",
    "        test_data_dir,\n",
    "        target_size=(image_size,image_size),\n",
    "        batch_size=batch_size,\n",
    "        class_mode='categorical',\n",
    "        shuffle=False)#shuffle should be False in validation"
   ]
  },
  {
   "cell_type": "markdown",
   "metadata": {
    "id": "9jIsiLoWUWKN"
   },
   "source": [
    "## 1.  Model Building"
   ]
  },
  {
   "cell_type": "code",
   "execution_count": 9,
   "metadata": {
    "colab": {
     "base_uri": "https://localhost:8080/"
    },
    "executionInfo": {
     "elapsed": 7372,
     "status": "ok",
     "timestamp": 1681141639064,
     "user": {
      "displayName": "olyad temesgen",
      "userId": "12784606696873291510"
     },
     "user_tz": -180
    },
    "id": "N0nkgfvd8S5x",
    "outputId": "4cfed9b0-79d4-4ae2-b100-cc5a81fdc68c"
   },
   "outputs": [],
   "source": [
    "!pip install --quiet vit-keras\n",
    "\n",
    "from vit_keras import vit"
   ]
  },
  {
   "cell_type": "code",
   "execution_count": 10,
   "metadata": {},
   "outputs": [],
   "source": [
    "import tensorflow.keras as keras\n",
    "\n",
    "keras.utils.get_custom_objects().clear()\n"
   ]
  },
  {
   "cell_type": "markdown",
   "metadata": {
    "id": "QrsbbNPK0VLH"
   },
   "source": []
  },
  {
   "cell_type": "code",
   "execution_count": 11,
   "metadata": {},
   "outputs": [
    {
     "name": "stdout",
     "output_type": "stream",
     "text": [
      "Model: \"model\"\n",
      "__________________________________________________________________________________________________\n",
      "Layer (type)                    Output Shape         Param #     Connected to                     \n",
      "==================================================================================================\n",
      "input_1 (InputLayer)            [(None, 224, 224, 3) 0                                            \n",
      "__________________________________________________________________________________________________\n",
      "embedding (Conv2D)              (None, 14, 14, 768)  590592      input_1[0][0]                    \n",
      "__________________________________________________________________________________________________\n",
      "par_cnn_0 (Conv2D)              (None, 222, 222, 16) 448         input_1[0][0]                    \n",
      "__________________________________________________________________________________________________\n",
      "patch_embed_to_1D (Reshape)     (None, 196, 768)     0           embedding[0][0]                  \n",
      "__________________________________________________________________________________________________\n",
      "par_cnn_1 (Conv2D)              (None, 218, 218, 256 102656      par_cnn_0[0][0]                  \n",
      "__________________________________________________________________________________________________\n",
      "class_token (ClassToken)        (None, 197, 768)     768         patch_embed_to_1D[0][0]          \n",
      "__________________________________________________________________________________________________\n",
      "par_cnn_2 (Conv2D)              (None, 214, 214, 768 4915968     par_cnn_1[0][0]                  \n",
      "__________________________________________________________________________________________________\n",
      "Transformer/posembed_input (Add (None, 197, 768)     151296      class_token[0][0]                \n",
      "__________________________________________________________________________________________________\n",
      "reshape_par_init (Reshape)      (None, 45796, 768)   0           par_cnn_2[0][0]                  \n",
      "__________________________________________________________________________________________________\n",
      "Transformer/encoderblock_0 (Tra ((None, 197, 768), ( 7087872     Transformer/posembed_input[0][0] \n",
      "__________________________________________________________________________________________________\n",
      "max_pooling1d (MaxPooling1D)    (None, 1, 768)       0           reshape_par_init[0][0]           \n",
      "__________________________________________________________________________________________________\n",
      "concatenate (Concatenate)       (None, 198, 768)     0           Transformer/encoderblock_0[0][0] \n",
      "                                                                 max_pooling1d[0][0]              \n",
      "__________________________________________________________________________________________________\n",
      "Transformer/encoderblock_1 (Tra ((None, 198, 768), ( 7087872     concatenate[0][0]                \n",
      "__________________________________________________________________________________________________\n",
      "concatenate_1 (Concatenate)     (None, 199, 768)     0           Transformer/encoderblock_1[0][0] \n",
      "                                                                 max_pooling1d[0][0]              \n",
      "__________________________________________________________________________________________________\n",
      "Transformer/encoderblock_2 (Tra ((None, 199, 768), ( 7087872     concatenate_1[0][0]              \n",
      "__________________________________________________________________________________________________\n",
      "concatenate_2 (Concatenate)     (None, 200, 768)     0           Transformer/encoderblock_2[0][0] \n",
      "                                                                 max_pooling1d[0][0]              \n",
      "__________________________________________________________________________________________________\n",
      "Transformer/encoderblock_3 (Tra ((None, 200, 768), ( 7087872     concatenate_2[0][0]              \n",
      "__________________________________________________________________________________________________\n",
      "concatenate_3 (Concatenate)     (None, 201, 768)     0           Transformer/encoderblock_3[0][0] \n",
      "                                                                 max_pooling1d[0][0]              \n",
      "__________________________________________________________________________________________________\n",
      "Transformer/encoderblock_4 (Tra ((None, 201, 768), ( 7087872     concatenate_3[0][0]              \n",
      "__________________________________________________________________________________________________\n",
      "concatenate_4 (Concatenate)     (None, 202, 768)     0           Transformer/encoderblock_4[0][0] \n",
      "                                                                 max_pooling1d[0][0]              \n",
      "__________________________________________________________________________________________________\n",
      "Transformer/encoderblock_5 (Tra ((None, 202, 768), ( 7087872     concatenate_4[0][0]              \n",
      "__________________________________________________________________________________________________\n",
      "concatenate_5 (Concatenate)     (None, 203, 768)     0           Transformer/encoderblock_5[0][0] \n",
      "                                                                 max_pooling1d[0][0]              \n",
      "__________________________________________________________________________________________________\n",
      "Transformer/encoderblock_6 (Tra ((None, 203, 768), ( 7087872     concatenate_5[0][0]              \n",
      "__________________________________________________________________________________________________\n",
      "concatenate_6 (Concatenate)     (None, 204, 768)     0           Transformer/encoderblock_6[0][0] \n",
      "                                                                 max_pooling1d[0][0]              \n",
      "__________________________________________________________________________________________________\n",
      "Transformer/encoderblock_7 (Tra ((None, 204, 768), ( 7087872     concatenate_6[0][0]              \n",
      "__________________________________________________________________________________________________\n",
      "concatenate_7 (Concatenate)     (None, 205, 768)     0           Transformer/encoderblock_7[0][0] \n",
      "                                                                 max_pooling1d[0][0]              \n",
      "__________________________________________________________________________________________________\n",
      "Transformer/encoderblock_8 (Tra ((None, 205, 768), ( 7087872     concatenate_7[0][0]              \n",
      "__________________________________________________________________________________________________\n",
      "concatenate_8 (Concatenate)     (None, 206, 768)     0           Transformer/encoderblock_8[0][0] \n",
      "                                                                 max_pooling1d[0][0]              \n",
      "__________________________________________________________________________________________________\n",
      "Transformer/encoderblock_9 (Tra ((None, 206, 768), ( 7087872     concatenate_8[0][0]              \n",
      "__________________________________________________________________________________________________\n",
      "concatenate_9 (Concatenate)     (None, 207, 768)     0           Transformer/encoderblock_9[0][0] \n",
      "                                                                 max_pooling1d[0][0]              \n",
      "__________________________________________________________________________________________________\n",
      "Transformer/encoderblock_10 (Tr ((None, 207, 768), ( 7087872     concatenate_9[0][0]              \n",
      "__________________________________________________________________________________________________\n",
      "concatenate_10 (Concatenate)    (None, 208, 768)     0           Transformer/encoderblock_10[0][0]\n",
      "                                                                 max_pooling1d[0][0]              \n",
      "__________________________________________________________________________________________________\n",
      "Transformer/encoderblock_11 (Tr ((None, 208, 768), ( 7087872     concatenate_10[0][0]             \n",
      "__________________________________________________________________________________________________\n",
      "concatenate_11 (Concatenate)    (None, 209, 768)     0           Transformer/encoderblock_11[0][0]\n",
      "                                                                 max_pooling1d[0][0]              \n",
      "__________________________________________________________________________________________________\n",
      "Transformer/encoder_norm (Layer (None, 209, 768)     1536        concatenate_11[0][0]             \n",
      "__________________________________________________________________________________________________\n",
      "ExtractToken (Lambda)           (None, 768)          0           Transformer/encoder_norm[0][0]   \n",
      "__________________________________________________________________________________________________\n",
      "pre_logits (Dense)              (None, 768)          590592      ExtractToken[0][0]               \n",
      "__________________________________________________________________________________________________\n",
      "dense (Dense)                   (None, 6)            4614        pre_logits[0][0]                 \n",
      "==================================================================================================\n",
      "Total params: 91,412,934\n",
      "Trainable params: 91,412,934\n",
      "Non-trainable params: 0\n",
      "__________________________________________________________________________________________________\n"
     ]
    }
   ],
   "source": [
    "from tensorflow.keras.layers import Flatten, BatchNormalization, Activation\n",
    "from tensorflow.keras.regularizers import l2\n",
    "\n",
    "import sys\n",
    "sys.path.append('C:/Users/yared/Desktop/Olyad/HASHIM/transformers')\n",
    "from cvit.vitcustom_parallel import *\n",
    "\n",
    "# Available models: vit_custom_b16, vit_custom_b32, vit_custom_l16, vit_custom_l32\n",
    "\n",
    "model = vit_custom_b16(\n",
    "    image_size=224,\n",
    "    activation='softmax',\n",
    "    pretrained=True,\n",
    "    include_top=False,\n",
    "    pretrained_top=False,\n",
    "    classes = 6,\n",
    "    weights = 'imagenet21k')       # +imagenet2012\n",
    "\n",
    "x = model.output\n",
    "# to add custom MLP Head \n",
    "# Flatten layer\n",
    "#x = Flatten()(x)\n",
    "# Batch normalization layer\n",
    "#x = BatchNormalization()(x)\n",
    "# Dense layer with GELU activation and L2 regularization\n",
    "#x = Dense(128, kernel_regularizer=l2(0.001))(x)\n",
    "#x = Activation('gelu')(x)\n",
    "# Batch normalization layer\n",
    "#x = BatchNormalization()(x)\n",
    "# Batch normalization layer\n",
    "#x = BatchNormalization()(x)\n",
    "\n",
    "model_out = Dense(6, activation='softmax')(x)\n",
    "model = Model(inputs=model.input, outputs=model_out)\n",
    "\n",
    "model.summary()"
   ]
  },
  {
   "cell_type": "code",
   "execution_count": null,
   "metadata": {
    "colab": {
     "base_uri": "https://localhost:8080/"
    },
    "executionInfo": {
     "elapsed": 16843,
     "status": "ok",
     "timestamp": 1681141666176,
     "user": {
      "displayName": "olyad temesgen",
      "userId": "12784606696873291510"
     },
     "user_tz": -180
    },
    "id": "b9v0mllk8S5y",
    "outputId": "670e4952-ba76-46ed-c436-e6c56ef5219b"
   },
   "outputs": [],
   "source": [
    "# pretrained_vit = vit.vit_b16(\n",
    "#         weights='imagenet21k+imagenet2012',  # remove imagenet  +imagenet2012 # olyad check with single or dfferent version of imagenet (either Imagenet21k or Imagene1k only or combination of both )\n",
    "#         image_size = image_size,\n",
    "#         activation = 'softmax',\n",
    "#         pretrained = True,\n",
    "#         include_top = False,\n",
    "#         pretrained_top = False,\n",
    "#         classes = 2)\n",
    "\n",
    "\n",
    "# #Adding custom Layers \n",
    "# x = pretrained_vit.output\n",
    "\n",
    "# model_out = Dense(2, activation='softmax', name=\"predictions_head\")(x)\n",
    "# model = Model(inputs=pretrained_vit.input, outputs=model_out)\n"
   ]
  },
  {
   "cell_type": "code",
   "execution_count": 12,
   "metadata": {
    "colab": {
     "base_uri": "https://localhost:8080/"
    },
    "executionInfo": {
     "elapsed": 398,
     "status": "ok",
     "timestamp": 1681141703581,
     "user": {
      "displayName": "olyad temesgen",
      "userId": "12784606696873291510"
     },
     "user_tz": -180
    },
    "id": "IIjrLBf9PvZg",
    "outputId": "3a831c70-db0a-493d-ad8c-770da724a5e4"
   },
   "outputs": [
    {
     "name": "stdout",
     "output_type": "stream",
     "text": [
      "Model: \"model\"\n",
      "__________________________________________________________________________________________________\n",
      "Layer (type)                    Output Shape         Param #     Connected to                     \n",
      "==================================================================================================\n",
      "input_1 (InputLayer)            [(None, 224, 224, 3) 0                                            \n",
      "__________________________________________________________________________________________________\n",
      "embedding (Conv2D)              (None, 14, 14, 768)  590592      input_1[0][0]                    \n",
      "__________________________________________________________________________________________________\n",
      "par_cnn_0 (Conv2D)              (None, 222, 222, 16) 448         input_1[0][0]                    \n",
      "__________________________________________________________________________________________________\n",
      "patch_embed_to_1D (Reshape)     (None, 196, 768)     0           embedding[0][0]                  \n",
      "__________________________________________________________________________________________________\n",
      "par_cnn_1 (Conv2D)              (None, 218, 218, 256 102656      par_cnn_0[0][0]                  \n",
      "__________________________________________________________________________________________________\n",
      "class_token (ClassToken)        (None, 197, 768)     768         patch_embed_to_1D[0][0]          \n",
      "__________________________________________________________________________________________________\n",
      "par_cnn_2 (Conv2D)              (None, 214, 214, 768 4915968     par_cnn_1[0][0]                  \n",
      "__________________________________________________________________________________________________\n",
      "Transformer/posembed_input (Add (None, 197, 768)     151296      class_token[0][0]                \n",
      "__________________________________________________________________________________________________\n",
      "reshape_par_init (Reshape)      (None, 45796, 768)   0           par_cnn_2[0][0]                  \n",
      "__________________________________________________________________________________________________\n",
      "Transformer/encoderblock_0 (Tra ((None, 197, 768), ( 7087872     Transformer/posembed_input[0][0] \n",
      "__________________________________________________________________________________________________\n",
      "max_pooling1d (MaxPooling1D)    (None, 1, 768)       0           reshape_par_init[0][0]           \n",
      "__________________________________________________________________________________________________\n",
      "concatenate (Concatenate)       (None, 198, 768)     0           Transformer/encoderblock_0[0][0] \n",
      "                                                                 max_pooling1d[0][0]              \n",
      "__________________________________________________________________________________________________\n",
      "Transformer/encoderblock_1 (Tra ((None, 198, 768), ( 7087872     concatenate[0][0]                \n",
      "__________________________________________________________________________________________________\n",
      "concatenate_1 (Concatenate)     (None, 199, 768)     0           Transformer/encoderblock_1[0][0] \n",
      "                                                                 max_pooling1d[0][0]              \n",
      "__________________________________________________________________________________________________\n",
      "Transformer/encoderblock_2 (Tra ((None, 199, 768), ( 7087872     concatenate_1[0][0]              \n",
      "__________________________________________________________________________________________________\n",
      "concatenate_2 (Concatenate)     (None, 200, 768)     0           Transformer/encoderblock_2[0][0] \n",
      "                                                                 max_pooling1d[0][0]              \n",
      "__________________________________________________________________________________________________\n",
      "Transformer/encoderblock_3 (Tra ((None, 200, 768), ( 7087872     concatenate_2[0][0]              \n",
      "__________________________________________________________________________________________________\n",
      "concatenate_3 (Concatenate)     (None, 201, 768)     0           Transformer/encoderblock_3[0][0] \n",
      "                                                                 max_pooling1d[0][0]              \n",
      "__________________________________________________________________________________________________\n",
      "Transformer/encoderblock_4 (Tra ((None, 201, 768), ( 7087872     concatenate_3[0][0]              \n",
      "__________________________________________________________________________________________________\n",
      "concatenate_4 (Concatenate)     (None, 202, 768)     0           Transformer/encoderblock_4[0][0] \n",
      "                                                                 max_pooling1d[0][0]              \n",
      "__________________________________________________________________________________________________\n",
      "Transformer/encoderblock_5 (Tra ((None, 202, 768), ( 7087872     concatenate_4[0][0]              \n",
      "__________________________________________________________________________________________________\n",
      "concatenate_5 (Concatenate)     (None, 203, 768)     0           Transformer/encoderblock_5[0][0] \n",
      "                                                                 max_pooling1d[0][0]              \n",
      "__________________________________________________________________________________________________\n",
      "Transformer/encoderblock_6 (Tra ((None, 203, 768), ( 7087872     concatenate_5[0][0]              \n",
      "__________________________________________________________________________________________________\n",
      "concatenate_6 (Concatenate)     (None, 204, 768)     0           Transformer/encoderblock_6[0][0] \n",
      "                                                                 max_pooling1d[0][0]              \n",
      "__________________________________________________________________________________________________\n",
      "Transformer/encoderblock_7 (Tra ((None, 204, 768), ( 7087872     concatenate_6[0][0]              \n",
      "__________________________________________________________________________________________________\n",
      "concatenate_7 (Concatenate)     (None, 205, 768)     0           Transformer/encoderblock_7[0][0] \n",
      "                                                                 max_pooling1d[0][0]              \n",
      "__________________________________________________________________________________________________\n",
      "Transformer/encoderblock_8 (Tra ((None, 205, 768), ( 7087872     concatenate_7[0][0]              \n",
      "__________________________________________________________________________________________________\n",
      "concatenate_8 (Concatenate)     (None, 206, 768)     0           Transformer/encoderblock_8[0][0] \n",
      "                                                                 max_pooling1d[0][0]              \n",
      "__________________________________________________________________________________________________\n",
      "Transformer/encoderblock_9 (Tra ((None, 206, 768), ( 7087872     concatenate_8[0][0]              \n",
      "__________________________________________________________________________________________________\n",
      "concatenate_9 (Concatenate)     (None, 207, 768)     0           Transformer/encoderblock_9[0][0] \n",
      "                                                                 max_pooling1d[0][0]              \n",
      "__________________________________________________________________________________________________\n",
      "Transformer/encoderblock_10 (Tr ((None, 207, 768), ( 7087872     concatenate_9[0][0]              \n",
      "__________________________________________________________________________________________________\n",
      "concatenate_10 (Concatenate)    (None, 208, 768)     0           Transformer/encoderblock_10[0][0]\n",
      "                                                                 max_pooling1d[0][0]              \n",
      "__________________________________________________________________________________________________\n",
      "Transformer/encoderblock_11 (Tr ((None, 208, 768), ( 7087872     concatenate_10[0][0]             \n",
      "__________________________________________________________________________________________________\n",
      "concatenate_11 (Concatenate)    (None, 209, 768)     0           Transformer/encoderblock_11[0][0]\n",
      "                                                                 max_pooling1d[0][0]              \n",
      "__________________________________________________________________________________________________\n",
      "Transformer/encoder_norm (Layer (None, 209, 768)     1536        concatenate_11[0][0]             \n",
      "__________________________________________________________________________________________________\n",
      "ExtractToken (Lambda)           (None, 768)          0           Transformer/encoder_norm[0][0]   \n",
      "__________________________________________________________________________________________________\n",
      "pre_logits (Dense)              (None, 768)          590592      ExtractToken[0][0]               \n",
      "__________________________________________________________________________________________________\n",
      "dense (Dense)                   (None, 6)            4614        pre_logits[0][0]                 \n",
      "==================================================================================================\n",
      "Total params: 91,412,934\n",
      "Trainable params: 91,412,934\n",
      "Non-trainable params: 0\n",
      "__________________________________________________________________________________________________\n"
     ]
    }
   ],
   "source": [
    "model.summary()"
   ]
  },
  {
   "cell_type": "code",
   "execution_count": 13,
   "metadata": {
    "colab": {
     "base_uri": "https://localhost:8080/"
    },
    "executionInfo": {
     "elapsed": 4,
     "status": "ok",
     "timestamp": 1681141708800,
     "user": {
      "displayName": "olyad temesgen",
      "userId": "12784606696873291510"
     },
     "user_tz": -180
    },
    "id": "sohd-XFUs_ej",
    "outputId": "29b53ebb-f5a3-43c9-c23c-998ae9307300"
   },
   "outputs": [
    {
     "name": "stdout",
     "output_type": "stream",
     "text": [
      "0 InputLayer True\n",
      "1 Conv2D True\n",
      "2 Conv2D True\n",
      "3 Reshape True\n",
      "4 Conv2D True\n",
      "5 ClassToken True\n",
      "6 Conv2D True\n",
      "7 AddPositionEmbs True\n",
      "8 Reshape True\n",
      "9 TransformerBlock True\n",
      "10 MaxPooling1D True\n",
      "11 Concatenate True\n",
      "12 TransformerBlock True\n",
      "13 Concatenate True\n",
      "14 TransformerBlock True\n",
      "15 Concatenate True\n",
      "16 TransformerBlock True\n",
      "17 Concatenate True\n",
      "18 TransformerBlock True\n",
      "19 Concatenate True\n",
      "20 TransformerBlock True\n",
      "21 Concatenate True\n",
      "22 TransformerBlock True\n",
      "23 Concatenate True\n",
      "24 TransformerBlock True\n",
      "25 Concatenate True\n",
      "26 TransformerBlock True\n",
      "27 Concatenate True\n",
      "28 TransformerBlock True\n",
      "29 Concatenate True\n",
      "30 TransformerBlock True\n",
      "31 Concatenate True\n",
      "32 TransformerBlock True\n",
      "33 Concatenate True\n",
      "34 LayerNormalization True\n",
      "35 Lambda True\n",
      "36 Dense True\n",
      "37 Dense True\n"
     ]
    }
   ],
   "source": [
    "# Let's print our layers \n",
    "for (i,layer) in enumerate(model.layers):\n",
    "    print(str(i) + \" \"+ layer.__class__.__name__, layer.trainable)"
   ]
  },
  {
   "cell_type": "markdown",
   "metadata": {
    "id": "QNr0tS6J8S50"
   },
   "source": [
    "# Training the Model"
   ]
  },
  {
   "cell_type": "code",
   "execution_count": 14,
   "metadata": {
    "colab": {
     "base_uri": "https://localhost:8080/"
    },
    "executionInfo": {
     "elapsed": 3214298,
     "status": "ok",
     "timestamp": 1681144968940,
     "user": {
      "displayName": "olyad temesgen",
      "userId": "12784606696873291510"
     },
     "user_tz": -180
    },
    "id": "8qzM6JQk8S51",
    "outputId": "d4ce3ed4-5863-4367-df54-a205a0db406c"
   },
   "outputs": [
    {
     "name": "stdout",
     "output_type": "stream",
     "text": [
      "Epoch 1/50\n",
      "919/919 [==============================] - 1646s 2s/step - loss: 0.5626 - accuracy: 0.9386 - val_loss: 0.5069 - val_accuracy: 0.9662\n",
      "\n",
      "Epoch 00001: val_accuracy improved from -inf to 0.96616, saving model to C:/Users/yared/Desktop/Olyad/HASHIM/WITH NEW AMD DATA/no healthy data(good)\\CUSTOMB16model.h5\n",
      "Epoch 2/50\n",
      "919/919 [==============================] - 1510s 2s/step - loss: 0.4611 - accuracy: 0.9842 - val_loss: 0.4979 - val_accuracy: 0.9694\n",
      "\n",
      "Epoch 00002: val_accuracy improved from 0.96616 to 0.96943, saving model to C:/Users/yared/Desktop/Olyad/HASHIM/WITH NEW AMD DATA/no healthy data(good)\\CUSTOMB16model.h5\n",
      "Epoch 3/50\n",
      "919/919 [==============================] - 1521s 2s/step - loss: 0.4592 - accuracy: 0.9842 - val_loss: 0.4756 - val_accuracy: 0.9809\n",
      "\n",
      "Epoch 00003: val_accuracy improved from 0.96943 to 0.98090, saving model to C:/Users/yared/Desktop/Olyad/HASHIM/WITH NEW AMD DATA/no healthy data(good)\\CUSTOMB16model.h5\n",
      "Epoch 4/50\n",
      "919/919 [==============================] - 1515s 2s/step - loss: 0.4595 - accuracy: 0.9853 - val_loss: 0.5035 - val_accuracy: 0.9683\n",
      "\n",
      "Epoch 00004: val_accuracy did not improve from 0.98090\n",
      "Epoch 5/50\n",
      "919/919 [==============================] - 1510s 2s/step - loss: 0.4427 - accuracy: 0.9918 - val_loss: 0.4609 - val_accuracy: 0.9847\n",
      "\n",
      "Epoch 00005: val_accuracy improved from 0.98090 to 0.98472, saving model to C:/Users/yared/Desktop/Olyad/HASHIM/WITH NEW AMD DATA/no healthy data(good)\\CUSTOMB16model.h5\n",
      "Epoch 6/50\n",
      "919/919 [==============================] - 1512s 2s/step - loss: 0.4288 - accuracy: 0.9971 - val_loss: 0.4619 - val_accuracy: 0.9847\n",
      "\n",
      "Epoch 00006: val_accuracy did not improve from 0.98472\n",
      "Epoch 7/50\n",
      "919/919 [==============================] - 1513s 2s/step - loss: 0.4835 - accuracy: 0.9730 - val_loss: 0.4531 - val_accuracy: 0.9842\n",
      "\n",
      "Epoch 00007: ReduceLROnPlateau reducing learning rate to 1.9999999494757503e-05.\n",
      "\n",
      "Epoch 00007: val_accuracy did not improve from 0.98472\n",
      "Epoch 8/50\n",
      "919/919 [==============================] - 1510s 2s/step - loss: 0.4237 - accuracy: 0.9996 - val_loss: 0.4460 - val_accuracy: 0.9907\n",
      "\n",
      "Epoch 00008: val_accuracy improved from 0.98472 to 0.99072, saving model to C:/Users/yared/Desktop/Olyad/HASHIM/WITH NEW AMD DATA/no healthy data(good)\\CUSTOMB16model.h5\n",
      "Epoch 9/50\n",
      "919/919 [==============================] - 1514s 2s/step - loss: 0.4222 - accuracy: 1.0000 - val_loss: 0.4460 - val_accuracy: 0.9907\n",
      "\n",
      "Epoch 00009: val_accuracy did not improve from 0.99072\n",
      "Epoch 10/50\n",
      "919/919 [==============================] - 1515s 2s/step - loss: 0.4220 - accuracy: 1.0000 - val_loss: 0.4454 - val_accuracy: 0.9907\n",
      "\n",
      "Epoch 00010: ReduceLROnPlateau reducing learning rate to 3.999999898951501e-06.\n",
      "\n",
      "Epoch 00010: val_accuracy did not improve from 0.99072\n",
      "Epoch 11/50\n",
      "919/919 [==============================] - 1515s 2s/step - loss: 0.4219 - accuracy: 1.0000 - val_loss: 0.4457 - val_accuracy: 0.9902\n",
      "\n",
      "Epoch 00011: val_accuracy did not improve from 0.99072\n",
      "Epoch 12/50\n",
      "919/919 [==============================] - 1523s 2s/step - loss: 0.4218 - accuracy: 1.0000 - val_loss: 0.4466 - val_accuracy: 0.9902\n",
      "\n",
      "Epoch 00012: ReduceLROnPlateau reducing learning rate to 1e-06.\n",
      "\n",
      "Epoch 00012: val_accuracy did not improve from 0.99072\n",
      "Epoch 13/50\n",
      "919/919 [==============================] - 1518s 2s/step - loss: 0.4218 - accuracy: 1.0000 - val_loss: 0.4464 - val_accuracy: 0.9902\n",
      "\n",
      "Epoch 00013: val_accuracy did not improve from 0.99072\n",
      "Epoch 14/50\n",
      "919/919 [==============================] - 1517s 2s/step - loss: 0.4219 - accuracy: 0.9999 - val_loss: 0.4436 - val_accuracy: 0.9918\n",
      "\n",
      "Epoch 00014: val_accuracy improved from 0.99072 to 0.99181, saving model to C:/Users/yared/Desktop/Olyad/HASHIM/WITH NEW AMD DATA/no healthy data(good)\\CUSTOMB16model.h5\n",
      "Epoch 15/50\n",
      "919/919 [==============================] - 1518s 2s/step - loss: 0.4217 - accuracy: 1.0000 - val_loss: 0.4439 - val_accuracy: 0.9918\n",
      "\n",
      "Epoch 00015: val_accuracy did not improve from 0.99181\n",
      "Epoch 16/50\n",
      "919/919 [==============================] - 1514s 2s/step - loss: 0.4217 - accuracy: 1.0000 - val_loss: 0.4444 - val_accuracy: 0.9918\n",
      "\n",
      "Epoch 00016: val_accuracy did not improve from 0.99181\n",
      "Epoch 17/50\n",
      "919/919 [==============================] - 1515s 2s/step - loss: 0.4217 - accuracy: 1.0000 - val_loss: 0.4446 - val_accuracy: 0.9918\n",
      "\n",
      "Epoch 00017: val_accuracy did not improve from 0.99181\n",
      "Epoch 18/50\n",
      "919/919 [==============================] - 1520s 2s/step - loss: 0.4217 - accuracy: 1.0000 - val_loss: 0.4451 - val_accuracy: 0.9913\n",
      "\n",
      "Epoch 00018: val_accuracy did not improve from 0.99181\n",
      "Epoch 19/50\n",
      "919/919 [==============================] - 1512s 2s/step - loss: 0.4216 - accuracy: 1.0000 - val_loss: 0.4459 - val_accuracy: 0.9907\n",
      "\n",
      "Epoch 00019: val_accuracy did not improve from 0.99181\n",
      "Epoch 20/50\n",
      "919/919 [==============================] - 1511s 2s/step - loss: 0.4216 - accuracy: 1.0000 - val_loss: 0.4466 - val_accuracy: 0.9902\n",
      "\n",
      "Epoch 00020: val_accuracy did not improve from 0.99181\n",
      "Epoch 21/50\n",
      "919/919 [==============================] - 1518s 2s/step - loss: 0.4216 - accuracy: 1.0000 - val_loss: 0.4468 - val_accuracy: 0.9902\n",
      "\n",
      "Epoch 00021: val_accuracy did not improve from 0.99181\n",
      "Epoch 22/50\n",
      "919/919 [==============================] - 1506s 2s/step - loss: 0.4215 - accuracy: 1.0000 - val_loss: 0.4457 - val_accuracy: 0.9907\n",
      "\n",
      "Epoch 00022: val_accuracy did not improve from 0.99181\n",
      "Epoch 23/50\n",
      "919/919 [==============================] - 1516s 2s/step - loss: 0.4215 - accuracy: 1.0000 - val_loss: 0.4452 - val_accuracy: 0.9907\n",
      "\n",
      "Epoch 00023: val_accuracy did not improve from 0.99181\n",
      "Epoch 24/50\n",
      "919/919 [==============================] - 1504s 2s/step - loss: 0.4215 - accuracy: 1.0000 - val_loss: 0.4460 - val_accuracy: 0.9902\n",
      "\n",
      "Epoch 00024: val_accuracy did not improve from 0.99181\n",
      "Epoch 25/50\n",
      "919/919 [==============================] - 1504s 2s/step - loss: 0.4215 - accuracy: 1.0000 - val_loss: 0.4472 - val_accuracy: 0.9902\n",
      "\n",
      "Epoch 00025: val_accuracy did not improve from 0.99181\n",
      "Epoch 26/50\n",
      "919/919 [==============================] - 1503s 2s/step - loss: 0.4215 - accuracy: 1.0000 - val_loss: 0.4475 - val_accuracy: 0.9902\n",
      "\n",
      "Epoch 00026: val_accuracy did not improve from 0.99181\n",
      "Epoch 27/50\n",
      "919/919 [==============================] - 1504s 2s/step - loss: 0.4215 - accuracy: 1.0000 - val_loss: 0.4480 - val_accuracy: 0.9896\n",
      "\n",
      "Epoch 00027: val_accuracy did not improve from 0.99181\n",
      "Epoch 28/50\n",
      "919/919 [==============================] - 1502s 2s/step - loss: 0.4214 - accuracy: 1.0000 - val_loss: 0.4474 - val_accuracy: 0.9896\n",
      "\n",
      "Epoch 00028: val_accuracy did not improve from 0.99181\n",
      "Epoch 29/50\n",
      "919/919 [==============================] - 1500s 2s/step - loss: 0.4214 - accuracy: 1.0000 - val_loss: 0.4477 - val_accuracy: 0.9896\n",
      "\n",
      "Epoch 00029: val_accuracy did not improve from 0.99181\n",
      "Epoch 30/50\n",
      "919/919 [==============================] - 1505s 2s/step - loss: 0.4214 - accuracy: 1.0000 - val_loss: 0.4469 - val_accuracy: 0.9902\n",
      "\n",
      "Epoch 00030: val_accuracy did not improve from 0.99181\n",
      "Epoch 31/50\n",
      "919/919 [==============================] - 1507s 2s/step - loss: 0.4214 - accuracy: 1.0000 - val_loss: 0.4465 - val_accuracy: 0.9902\n",
      "\n",
      "Epoch 00031: val_accuracy did not improve from 0.99181\n",
      "Epoch 32/50\n",
      "919/919 [==============================] - 1507s 2s/step - loss: 0.4214 - accuracy: 1.0000 - val_loss: 0.4461 - val_accuracy: 0.9907\n",
      "\n",
      "Epoch 00032: val_accuracy did not improve from 0.99181\n",
      "Epoch 33/50\n",
      "919/919 [==============================] - 1508s 2s/step - loss: 0.4214 - accuracy: 1.0000 - val_loss: 0.4458 - val_accuracy: 0.9913\n",
      "\n",
      "Epoch 00033: val_accuracy did not improve from 0.99181\n",
      "Epoch 34/50\n",
      "919/919 [==============================] - 1510s 2s/step - loss: 0.4214 - accuracy: 1.0000 - val_loss: 0.4472 - val_accuracy: 0.9902\n",
      "Restoring model weights from the end of the best epoch.\n",
      "\n",
      "Epoch 00034: val_accuracy did not improve from 0.99181\n",
      "Epoch 00034: early stopping\n"
     ]
    }
   ],
   "source": [
    "  def custom_loss(y_true, y_pred):\n",
    "    return tf.keras.losses.categorical_crossentropy(y_true, y_pred, label_smoothing=0.1)\n",
    "  model.compile(optimizer=Adam(0.0001), loss=custom_loss, metrics=['accuracy'])\n",
    "\n",
    "\n",
    "\n",
    "\n",
    "STEP_SIZE_TRAIN = train_generator.n // train_generator.batch_size\n",
    "STEP_SIZE_VALID = validation_generator.n // validation_generator.batch_size\n",
    "\n",
    "reduce_lr = tf.keras.callbacks.ReduceLROnPlateau(monitor = 'val_accuracy',\n",
    "                                                 factor = 0.2,\n",
    "                                                 patience = 2,    # 3 or 4 \n",
    "                                                 verbose = 1,\n",
    "                                                 min_delta = 1e-4,\n",
    "                                                 min_lr = 1e-6,\n",
    "                                                 mode = 'max')\n",
    "\n",
    "earlystopping = tf.keras.callbacks.EarlyStopping(monitor = 'val_accuracy',\n",
    "                                                 min_delta = 1e-4,\n",
    "                                                 patience = 20,\n",
    "                                                 mode = 'max',\n",
    "                                                 restore_best_weights = True,\n",
    "                                                 verbose = 1)\n",
    "\n",
    "checkpointer = tf.keras.callbacks.ModelCheckpoint(filepath = 'C:/Users/yared/Desktop/Olyad/HASHIM/WITH NEW AMD DATA/no healthy data(good)/CUSTOMB16model.h5',\n",
    "                                                  monitor = 'val_accuracy', \n",
    "                                                  verbose = 1, \n",
    "                                                  save_best_only = True,\n",
    "                                                  save_weights_only = False,\n",
    "                                                  mode = 'max')\n",
    "\n",
    "callbacks = [earlystopping, reduce_lr, checkpointer]\n",
    "\n",
    "history_vit= model.fit(train_generator,\n",
    "          steps_per_epoch = STEP_SIZE_TRAIN,\n",
    "          validation_data = validation_generator,\n",
    "          validation_steps = STEP_SIZE_VALID,\n",
    "          epochs = EPOCHS,\n",
    "          callbacks = callbacks)\n",
    "\n"
   ]
  },
  {
   "cell_type": "markdown",
   "metadata": {
    "id": "WXEPRVwvhMGG"
   },
   "source": [
    "# Model Results"
   ]
  },
  {
   "cell_type": "code",
   "execution_count": 15,
   "metadata": {
    "colab": {
     "base_uri": "https://localhost:8080/",
     "height": 709
    },
    "executionInfo": {
     "elapsed": 80381,
     "status": "ok",
     "timestamp": 1681145479435,
     "user": {
      "displayName": "olyad temesgen",
      "userId": "12784606696873291510"
     },
     "user_tz": -180
    },
    "id": "1u4VVPs7W-OJ",
    "outputId": "b1116399-336b-4231-af2f-6369fa007b13"
   },
   "outputs": [
    {
     "name": "stdout",
     "output_type": "stream",
     "text": [
      "144/144 [==============================] - 72s 474ms/step\n",
      "Confusion Matrix\n",
      "[[139   0   0   1   0   0]\n",
      " [  2 201  12   1   0   0]\n",
      " [ 13   4 155  19   0   0]\n",
      " [  0   8   0 232   0   0]\n",
      " [  0   0   0   0 184   0]\n",
      " [  0   0   0   0   0 182]]\n",
      "Classification Report\n",
      "              precision    recall  f1-score   support\n",
      "\n",
      "         AMD       0.90      0.99      0.95       140\n",
      "    CATARACT       0.94      0.93      0.94       216\n",
      "          DR       0.93      0.81      0.87       191\n",
      "    GLAUCOMA       0.92      0.97      0.94       240\n",
      "     HEALTHY       1.00      1.00      1.00       184\n",
      "       OTHER       1.00      1.00      1.00       182\n",
      "\n",
      "    accuracy                           0.95      1153\n",
      "   macro avg       0.95      0.95      0.95      1153\n",
      "weighted avg       0.95      0.95      0.95      1153\n",
      "\n"
     ]
    },
    {
     "data": {
      "text/plain": [
       "<Figure size 800x800 with 0 Axes>"
      ]
     },
     "metadata": {},
     "output_type": "display_data"
    },
    {
     "data": {
      "image/png": "[encoded data removed]",
      "text/plain": [
       "<Figure size 640x480 with 1 Axes>"
      ]
     },
     "metadata": {},
     "output_type": "display_data"
    }
   ],
   "source": [
    "import matplotlib.pyplot as plt\n",
    "import sklearn\n",
    "from sklearn.metrics import classification_report, confusion_matrix, accuracy_score\n",
    "import numpy as np\n",
    "\n",
    "\n",
    "class_labels = test_generator.class_indices\n",
    "class_labels = {v: k for k, v in class_labels.items()}\n",
    "classes = list(class_labels.values())\n",
    "\n",
    "#Confusion Matrix and Classification Report\n",
    "y_pred=model.predict(test_generator,steps=test_generator.n/batch_size,verbose=1)\n",
    "y_pred = np.argmax(y_pred, axis=1) \n",
    "y_true = test_generator.classes\n",
    "\n",
    "print('Confusion Matrix')\n",
    "print(confusion_matrix(y_true, y_pred))\n",
    "\n",
    "\n",
    "print('Classification Report')\n",
    "target_names = list(class_labels.values())\n",
    "print(classification_report(y_true, y_pred, target_names=target_names))\n",
    "\n",
    "plt.figure(figsize=(8,8))\n",
    "cnf_matrix = confusion_matrix(test_generator.classes, y_pred)\n",
    "\n",
    "from mlxtend.plotting import plot_confusion_matrix\n",
    "fig, ax = plot_confusion_matrix(cnf_matrix) \n",
    "plt.show()\n"
   ]
  },
  {
   "cell_type": "code",
   "execution_count": 37,
   "metadata": {
    "colab": {
     "base_uri": "https://localhost:8080/",
     "height": 719
    },
    "executionInfo": {
     "elapsed": 511,
     "status": "ok",
     "timestamp": 1681145568441,
     "user": {
      "displayName": "olyad temesgen",
      "userId": "12784606696873291510"
     },
     "user_tz": -180
    },
    "id": "asFJjyRnhWBg",
    "outputId": "d77d7769-73a7-437f-d291-8dd0d14d0264"
   },
   "outputs": [
    {
     "data": {
      "text/plain": [
       "<Figure size 640x480 with 0 Axes>"
      ]
     },
     "metadata": {},
     "output_type": "display_data"
    },
    {
     "data": {
      "image/png": "[encoded data removed]",
      "text/plain": [
       "<Figure size 600x600 with 1 Axes>"
      ]
     },
     "metadata": {},
     "output_type": "display_data"
    }
   ],
   "source": [
    "# Get the confusion matrix\n",
    "cm  = confusion_matrix(y_true, y_pred)\n",
    "plt.figure()\n",
    "plot_confusion_matrix(cm,figsize=(6,6), hide_ticks=True,cmap=plt.cm.Blues)\n",
    "plt.xticks(range(6), ['AMD','CATARACT','DR','GLAUCOMA','HEALTHY','OTHER'], fontsize=8)\n",
    "plt.yticks(range(6), ['AMD','CATARACT','DR','GLAUCOMA','HEALTHY','OTHER'], fontsize=8)\n",
    "plt.show()"
   ]
  },
  {
   "cell_type": "code",
   "execution_count": 19,
   "metadata": {},
   "outputs": [
    {
     "data": {
      "image/png": "[encoded data removed]",
      "text/plain": [
       "<Figure size 640x480 with 1 Axes>"
      ]
     },
     "metadata": {},
     "output_type": "display_data"
    }
   ],
   "source": [
    "import matplotlib.pyplot as plt\n",
    "\n",
    "# Get the training accuracy and validation accuracy from the history object\n",
    "train_accuracy = history_vit.history['accuracy']\n",
    "val_accuracy = history_vit.history['val_accuracy']\n",
    "\n",
    "# Create a list of epochs\n",
    "epochs = range(1, len(train_accuracy) + 1)\n",
    "\n",
    "# Plot the training accuracy and validation accuracy\n",
    "plt.plot(epochs, train_accuracy, 'b', label='Training Accuracy')\n",
    "plt.plot(epochs, val_accuracy, 'r', label='Validation Accuracy')\n",
    "plt.title('Training and Validation Accuracy')\n",
    "plt.xlabel('Epochs')\n",
    "plt.ylabel('Accuracy')\n",
    "plt.legend()\n",
    "plt.show()\n"
   ]
  },
  {
   "cell_type": "code",
   "execution_count": 20,
   "metadata": {},
   "outputs": [
    {
     "data": {
      "image/png": "[encoded data removed]",
      "text/plain": [
       "<Figure size 640x480 with 1 Axes>"
      ]
     },
     "metadata": {},
     "output_type": "display_data"
    }
   ],
   "source": [
    "# Get the training loss and validation loss from the history object\n",
    "train_loss = history_vit.history['loss']\n",
    "val_loss = history_vit.history['val_loss']\n",
    "\n",
    "# Create a new figure and plot the training loss and validation loss\n",
    "plt.figure()\n",
    "plt.plot(epochs, train_loss, 'b', label='Training Loss')\n",
    "plt.plot(epochs, val_loss, 'r', label='Validation Loss')\n",
    "plt.title('Training and Validation Loss')\n",
    "plt.xlabel('Epochs')\n",
    "plt.ylabel('Loss')\n",
    "plt.legend()\n",
    "plt.show()\n"
   ]
  },
  {
   "cell_type": "markdown",
   "metadata": {
    "id": "oEHJIs2yt7pZ"
   },
   "source": [
    "below code calculates precision and recall for each class "
   ]
  },
  {
   "cell_type": "code",
   "execution_count": 21,
   "metadata": {
    "colab": {
     "base_uri": "https://localhost:8080/"
    },
    "executionInfo": {
     "elapsed": 418,
     "status": "ok",
     "timestamp": 1681145596396,
     "user": {
      "displayName": "olyad temesgen",
      "userId": "12784606696873291510"
     },
     "user_tz": -180
    },
    "id": "_1exEOD-uBaB",
    "outputId": "4a15d6bf-9ad1-4a42-9780-c2a5bf6efa3c"
   },
   "outputs": [
    {
     "name": "stdout",
     "output_type": "stream",
     "text": [
      "Class 0 - Precision: 0.90, Recall: 0.99, F1-score: 0.95\n",
      "Class 1 - Precision: 0.94, Recall: 0.93, F1-score: 0.94\n",
      "Class 2 - Precision: 0.93, Recall: 0.81, F1-score: 0.87\n",
      "Class 3 - Precision: 0.92, Recall: 0.97, F1-score: 0.94\n",
      "Class 4 - Precision: 1.00, Recall: 1.00, F1-score: 1.00\n",
      "Class 5 - Precision: 1.00, Recall: 1.00, F1-score: 1.00\n",
      "Macro-averaged Precision: 0.95\n",
      "Macro-averaged Recall: 0.95\n",
      "Macro-averaged F1-score: 0.95\n",
      "Accuracy is 0.95\n"
     ]
    }
   ],
   "source": [
    "from sklearn.metrics import confusion_matrix, accuracy_score, precision_score, recall_score, f1_score\n",
    "\n",
    "# Assume y_true and y_pred are arrays with true and predicted labels respectively\n",
    "\n",
    "cm = confusion_matrix(y_true, y_pred)\n",
    "num_classes = cm.shape[0]\n",
    "\n",
    "accuracy = accuracy_score(y_true, y_pred)\n",
    "\n",
    "precision_list = []\n",
    "recall_list = []\n",
    "f1_list = []\n",
    "\n",
    "for i in range(num_classes):\n",
    "    tp = cm[i,i]\n",
    "    fp = np.sum(cm[:,i]) - tp\n",
    "    fn = np.sum(cm[i,:]) - tp\n",
    "    \n",
    "    precision = precision_score(y_true, y_pred, labels=[i], average='micro')\n",
    "    recall = recall_score(y_true, y_pred, labels=[i], average='micro')\n",
    "    f1 = f1_score(y_true, y_pred, labels=[i], average='micro')\n",
    "    \n",
    "    precision_list.append(precision)\n",
    "    recall_list.append(recall)\n",
    "    f1_list.append(f1)\n",
    "    \n",
    "    print(\"Class {} - Precision: {:.2f}, Recall: {:.2f}, F1-score: {:.2f}\".format(i, precision, recall, f1))\n",
    "\n",
    "# Calculate macro-average of precision, recall, and f1-score\n",
    "macro_precision = sum(precision_list) / num_classes\n",
    "macro_recall = sum(recall_list) / num_classes\n",
    "macro_f1 = sum(f1_list) / num_classes\n",
    "\n",
    "print(\"Macro-averaged Precision: {:.2f}\".format(macro_precision))\n",
    "print(\"Macro-averaged Recall: {:.2f}\".format(macro_recall))\n",
    "print(\"Macro-averaged F1-score: {:.2f}\".format(macro_f1))\n",
    "print(\"Accuracy is {:.2f}\".format(accuracy))\n"
   ]
  },
  {
   "cell_type": "code",
   "execution_count": null,
   "metadata": {
    "colab": {
     "base_uri": "https://localhost:8080/"
    },
    "executionInfo": {
     "elapsed": 398,
     "status": "ok",
     "timestamp": 1681145615139,
     "user": {
      "displayName": "olyad temesgen",
      "userId": "12784606696873291510"
     },
     "user_tz": -180
    },
    "id": "zEsjNJTghdWx",
    "outputId": "39c139e3-985d-4ae0-a074-4264cba497d9"
   },
   "outputs": [],
   "source": [
    "# Calculate Precision and Recall\n",
    "tn, fp, fn, tp = cm.ravel()\n",
    "\n",
    "accuracy = accuracy_score(y_true, y_pred)\n",
    "precision = tp/(tp+fp)\n",
    "recall = tp/(tp+fn)\n",
    "specificity = tn/(tn+fp)\n",
    "f1 = 2*precision*recall/(precision+recall)\n",
    "\n",
    "print(\"Accuracy is {}\".format(accuracy))\n",
    "print(\"Recall/Sensitivity of the model is {}\".format(recall))\n",
    "print(\"Precision of the model is {}\".format(precision))\n",
    "print(\"F1-score of the model is {}\".format(f1))\n",
    "print(\"Specificity of the model is {}\".format(specificity))\n"
   ]
  },
  {
   "cell_type": "code",
   "execution_count": null,
   "metadata": {},
   "outputs": [],
   "source": [
    "# BELOW CODE IS FOR ROC-AUC CURVE FOR MULTI CLASS CLASSIFICATION"
   ]
  },
  {
   "cell_type": "code",
   "execution_count": 23,
   "metadata": {
    "collapsed": true
   },
   "outputs": [
    {
     "data": {
      "image/png": "[encoded data removed]",
      "text/plain": [
       "<Figure size 640x480 with 1 Axes>"
      ]
     },
     "metadata": {},
     "output_type": "display_data"
    }
   ],
   "source": [
    "import numpy as np\n",
    "import matplotlib.pyplot as plt\n",
    "from sklearn.metrics import roc_curve, auc\n",
    "from sklearn.preprocessing import label_binarize\n",
    "\n",
    "# Assuming you have the predicted probabilities or scores for each class\n",
    "predicted_scores = model.predict(validation_generator)\n",
    "true_labels = validation_generator.labels\n",
    "\n",
    "# Binarize the true labels\n",
    "num_classes = len(np.unique(true_labels))\n",
    "binarized_labels = label_binarize(true_labels, classes=np.arange(num_classes))\n",
    "\n",
    "# Compute the ROC curve and AUC for each class\n",
    "fpr = dict()\n",
    "tpr = dict()\n",
    "roc_auc = dict()\n",
    "for i in range(num_classes):\n",
    "    fpr[i], tpr[i], _ = roc_curve(binarized_labels[:, i], predicted_scores[:, i])\n",
    "    roc_auc[i] = auc(fpr[i], tpr[i])\n",
    "\n",
    "# Compute micro-average ROC curve and AUC\n",
    "fpr_micro, tpr_micro, _ = roc_curve(binarized_labels.ravel(), predicted_scores.ravel())\n",
    "roc_auc_micro = auc(fpr_micro, tpr_micro)\n",
    "\n",
    "# Plot the ROC curves for each class\n",
    "plt.figure()\n",
    "colors = ['darkorange', 'cornflowerblue', 'limegreen', 'red', 'blue', 'purple']  # Adjust the colors as needed\n",
    "for i in range(num_classes):\n",
    "    plt.plot(fpr[i], tpr[i], color=colors[i], lw=2,\n",
    "             label='ROC curve (AUC = %0.2f)' % roc_auc[i])\n",
    "\n",
    "# Plot the micro-average ROC curve\n",
    "plt.plot(fpr_micro, tpr_micro, color='deeppink', lw=2,\n",
    "         label='Micro-average ROC curve (AUC = %0.2f)' % roc_auc_micro)\n",
    "\n",
    "plt.plot([0, 1], [0, 1], color='navy', lw=2, linestyle='--')\n",
    "plt.xlim([0.0, 1.0])\n",
    "plt.ylim([0.0, 1.05])\n",
    "plt.xlabel('False Positive Rate')\n",
    "plt.ylabel('True Positive Rate')\n",
    "plt.title('Receiver Operating Characteristic')\n",
    "plt.legend(loc=\"lower right\")\n",
    "plt.show()\n"
   ]
  },
  {
   "cell_type": "code",
   "execution_count": null,
   "metadata": {},
   "outputs": [],
   "source": [
    "# ROC FOR MULTI CLASS "
   ]
  },
  {
   "cell_type": "code",
   "execution_count": 24,
   "metadata": {},
   "outputs": [
    {
     "name": "stdout",
     "output_type": "stream",
     "text": [
      "ROC AUC score: 0.9994438927747265\n"
     ]
    }
   ],
   "source": [
    "from sklearn.metrics import roc_auc_score\n",
    "\n",
    "# Assuming you have the predicted scores and true labels\n",
    "predicted_scores = model.predict(validation_generator)\n",
    "true_labels = validation_generator.labels\n",
    "\n",
    "# Calculate the ROC AUC score\n",
    "roc_auc = roc_auc_score(true_labels, predicted_scores, multi_class='ovr')\n",
    "\n",
    "print(\"ROC AUC score:\", roc_auc)"
   ]
  },
  {
   "cell_type": "code",
   "execution_count": 41,
   "metadata": {
    "scrolled": false
   },
   "outputs": [
    {
     "name": "stdout",
     "output_type": "stream",
     "text": [
      "144/144 [==============================] - 54s 372ms/step\n"
     ]
    },
    {
     "data": {
      "image/png": "[encoded data removed]",
      "text/plain": [
       "<Figure size 600x600 with 1 Axes>"
      ]
     },
     "metadata": {},
     "output_type": "display_data"
    }
   ],
   "source": [
    "# Calculate the number of steps needed to cover all samples in the test dataset\n",
    "num_steps = test_generator.n // test_generator.batch_size\n",
    "\n",
    "# Predict probabilities for all samples using the test generator\n",
    "y_pred = model.predict(test_generator, steps=num_steps, verbose=1)\n",
    "\n",
    "# Flatten the true labels to match the shape of y_pred\n",
    "y_true = np.concatenate([test_generator[i][1] for i in range(num_steps)])\n",
    "\n",
    "# Calculate ROC curve and AUC for each class\n",
    "fpr = dict()\n",
    "tpr = dict()\n",
    "roc_auc = dict()\n",
    "\n",
    "n_classes = len(classes)\n",
    "\n",
    "for i in range(n_classes):\n",
    "    fpr[i], tpr[i], _ = roc_curve((y_true[:, i] == 1).astype(int), y_pred[:, i])\n",
    "    roc_auc[i] = auc(fpr[i], tpr[i])\n",
    "\n",
    "# Plot ROC curves for each class\n",
    "plt.figure(figsize=(6, 6))\n",
    "colors = ['b', 'g', 'r', 'c', 'm', 'y']  # Customize colors if needed\n",
    "\n",
    "for i in range(n_classes):\n",
    "    plt.plot(fpr[i], tpr[i], color=colors[i], label=f'Class {classes[i]} (AUC = {roc_auc[i]:.2f})')\n",
    "\n",
    "plt.plot([0, 1], [0, 1], 'k--')  # Diagonal line for random classifier\n",
    "plt.xlim([0.0, 1.0])\n",
    "plt.ylim([0.0, 1.05])\n",
    "plt.xlabel('False Positive Rate')\n",
    "plt.ylabel('True Positive Rate')\n",
    "plt.title('ROC Curve for Fundus Image Classification')\n",
    "plt.legend(loc=\"lower right\")\n",
    "plt.show()\n"
   ]
  },
  {
   "cell_type": "code",
   "execution_count": null,
   "metadata": {},
   "outputs": [],
   "source": [
    "# ROC AUC score for multi class "
   ]
  },
  {
   "cell_type": "code",
   "execution_count": 42,
   "metadata": {},
   "outputs": [
    {
     "name": "stdout",
     "output_type": "stream",
     "text": [
      "ROC AUC score: 0.9994438927747265\n"
     ]
    }
   ],
   "source": [
    "from sklearn.metrics import roc_auc_score\n",
    "\n",
    "# Assuming you have the predicted scores and true labels\n",
    "predicted_scores = model.predict(validation_generator)\n",
    "true_labels = validation_generator.labels\n",
    "\n",
    "# Calculate the ROC AUC score\n",
    "roc_auc = roc_auc_score(true_labels, predicted_scores, multi_class='ovr')\n",
    "\n",
    "print(\"ROC AUC score:\", roc_auc)\n"
   ]
  },
  {
   "cell_type": "code",
   "execution_count": null,
   "metadata": {},
   "outputs": [],
   "source": [
    "# ROC for binary class "
   ]
  },
  {
   "cell_type": "code",
   "execution_count": null,
   "metadata": {
    "colab": {
     "base_uri": "https://localhost:8080/",
     "height": 472
    },
    "executionInfo": {
     "elapsed": 795,
     "status": "ok",
     "timestamp": 1681145620489,
     "user": {
      "displayName": "olyad temesgen",
      "userId": "12784606696873291510"
     },
     "user_tz": -180
    },
    "id": "bJh6G1ubheok",
    "outputId": "82e115b8-14c2-415c-c17b-48441cafbbb2"
   },
   "outputs": [],
   "source": [
    "import sklearn.metrics as metrics\n",
    "fpr, tpr, threshold = metrics.roc_curve(y_true, y_pred)\n",
    "roc_auc = metrics.auc(fpr, tpr)\n",
    "\n",
    "# method I: plt\n",
    "import matplotlib.pyplot as plt\n",
    "plt.title('Receiver Operating Characteristic')\n",
    "plt.plot(fpr, tpr, 'b', label = 'AUC = %0.2f' % roc_auc)\n",
    "plt.legend(loc = 'lower right')\n",
    "plt.plot([0, 1], [0, 1],'r--')\n",
    "plt.xlim([0, 1])\n",
    "plt.ylim([0, 1])\n",
    "plt.ylabel('True Positive Rate')\n",
    "plt.xlabel('False Positive Rate')\n",
    "plt.show()"
   ]
  },
  {
   "cell_type": "code",
   "execution_count": null,
   "metadata": {
    "colab": {
     "base_uri": "https://localhost:8080/"
    },
    "executionInfo": {
     "elapsed": 725,
     "status": "ok",
     "timestamp": 1681145629557,
     "user": {
      "displayName": "olyad temesgen",
      "userId": "12784606696873291510"
     },
     "user_tz": -180
    },
    "id": "iIRqNF-Dlsj0",
    "outputId": "2cc3d2d5-80a0-4e58-d27a-68c71bd32248"
   },
   "outputs": [],
   "source": [
    "import numpy as np\n",
    "from sklearn.metrics import roc_auc_score\n",
    "roc_auc_score(y_true, y_pred)"
   ]
  },
  {
   "cell_type": "code",
   "execution_count": 1,
   "metadata": {
    "id": "k2Yyd1SAkN4I"
   },
   "outputs": [],
   "source": [
    "import argparse\n",
    "import csv\n",
    "import os\n",
    "import tqdm\n",
    "import pdb\n",
    "import shutil\n",
    "import time\n",
    "import torch\n",
    "import numpy as np\n",
    "import torchvision\n",
    "import torch.nn as nn\n",
    "import os.path as osp\n",
    "import torch.optim as optim\n",
    "from torchvision import datasets, models\n",
    "from functools import partial\n",
    "import torchvision.models as models\n",
    "import torch.optim as optim\n",
    "from torch.autograd import Variable\n",
    "from torch.backends import cudnn\n",
    "from torch.optim.lr_scheduler import ReduceLROnPlateau\n",
    "\n",
    "from model.baseline import Pre_ResNet18Model1\n",
    "from model.modified_model import Freezing_layer_Resnet18WithCCSAM1\n",
    "from model.modified_model import resnet18_ccsam\n",
    "\n",
    "from torch.utils.tensorboard import SummaryWriter\n",
    "from datetime import datetime\n",
    "import matplotlib.pyplot as plt"
   ]
  },
  {
   "cell_type": "code",
   "execution_count": 3,
   "metadata": {},
   "outputs": [],
   "source": [
    "#model=Pre_ResNet18Model1(num_classes=5)\n",
    "#model=my_InceptionV3(num_classes=5)\n",
    "model=resnet18_ccsam(num_classes=5)\n",
    "#model=ccsam_inception_v3(num_classes=5)\n",
    "#model = Freezing_layer_Resnet18WithCCSAM1(num_classes=5)\n",
    "#model = model.cuda()\n",
    "\n",
    "print(model)"
   ]
  },
  {
   "cell_type": "code",
   "execution_count": 4,
   "metadata": {},
   "outputs": [],
   "source": [
    "import torch\n",
    "import torch.nn as nn\n",
    "import torchvision.models as models\n",
    "from torchvision import transforms\n",
    "import cv2\n",
    "from torchvision.models import ResNet\n",
    "from PIL import Image\n",
    "import matplotlib.pyplot as plt\n",
    "import numpy as np\n",
    "# Load the pre-trained RESNET18 model with CBAM attention mechanism\n",
    "model=resnet18_ccsam(num_classes=5)\n",
    "\n",
    "# Remove the last fully connected layer\n",
    "#model.fc = torch.nn.Identity()\n",
    "#model.fc2 = torch.nn.Identity()\n",
    "#model = Freezing_layer_Resnet18WithCCSAM1(num_classes=5)\n",
    "\n",
    "# Load the ResNet18 model\n",
    "#model = models.resnet18(pretrained=True)\n",
    "#model.eval()\n",
    "# Load the pre-trained ResNet50 model\n",
    "#model=Pre_ResNet18Model1(num_classes=5)\n",
    "model.eval()\n",
    "\n",
    "# Define the preprocessing transformations\n",
    "preprocess = transforms.Compose([\n",
    "    transforms.Resize((224, 224)),\n",
    "    transforms.ToTensor(),\n",
    "    transforms.Normalize(mean=[0.485, 0.456, 0.406], std=[0.229, 0.224, 0.225]),\n",
    "])\n",
    "\n",
    "# Load and preprocess the image\n",
    "image_path = \"E:/jupyter notebook/last_code_model/olii/AMD.jpg\"\n",
    "#image_path = \"E:/jupyter notebook/last_code_model/olii/CATARACT.jpg\"\n",
    "#image_path = \"E:/jupyter notebook/last_code_model/olii/DR.jpg\"\n",
    "#image_path = \"E:/jupyter notebook/last_code_model/olii/GLAUCOMA.jpg\"\n",
    "#image_path = \"E:/jupyter notebook/last_code_model/olii/OTHER.jpg\"\n",
    "image = Image.open(image_path).convert('RGB')\n",
    "# Preprocess the image\n",
    "\n",
    "input_tensor = preprocess(image).unsqueeze(0)\n",
    "\n",
    "# Forward pass through the model\n",
    "output = model(input_tensor)\n",
    "pred_label = torch.argmax(output, dim=1).item()\n",
    "\n",
    "# Get the gradients with respect to the input tensor\n",
    "model.zero_grad()\n",
    "output[:, pred_label].backward()\n",
    "\n",
    "# Get the gradients from the model's first convolutional layer\n",
    "gradients = model.conv1.weight.grad\n",
    "\n",
    "# Average the gradients across the RGB channels\n",
    "pooled_gradients = torch.mean(gradients, dim=[2, 3])\n",
    "\n",
    "# Get the feature maps from the last convolutional layer\n",
    "features = model.conv1(input_tensor)\n",
    "\n",
    "\n",
    "# Multiply the feature maps by the corresponding gradients\n",
    "for i in range(features.size(0)):\n",
    "    features[:, i, :, :] *= pooled_gradients[0, i]\n",
    "\n",
    "# Sum the feature maps along the channels dimension\n",
    "heatmap = torch.sum(features, dim=1).squeeze()\n",
    "\n",
    "# Normalize the heat map values\n",
    "heatmap = nn.functional.relu(heatmap)\n",
    "heatmap /= torch.max(heatmap)\n",
    "\n",
    "# Convert the heat map to a numpy array\n",
    "heatmap = heatmap.detach().numpy()\n",
    "\n",
    "# Visualize the heat map\n",
    "#plt.imshow('Original Image', image)\n",
    "#plt.imshow(heatmap, cmap='jet')\n",
    "#plt.axis('off')\n",
    "#plt.show()\n",
    "\n",
    "# Apply the attention map to the original image\n",
    "#heatmap = cv2.applyColorMap(attention_map, cv2.COLORMAP_JET)\n",
    "# Superimpose the heat map on the original image\n",
    "\n",
    "# Display the original image, attention map, and superimposed image\n",
    "fig, ax = plt.subplots(1, 2, figsize=(10, 4))\n",
    "ax[0].imshow(image)\n",
    "ax[0].set_title('Original')\n",
    "ax[0].axis('off')\n",
    "\n",
    "ax[1].imshow(heatmap, cmap='jet')\n",
    "ax[1].set_title('fine tuned resnet18_ccsam')\n",
    "ax[1].axis('off')\n",
    "\n",
    "\n",
    "plt.tight_layout()\n",
    "plt.show()\n",
    "\n"
   ]
  },
  {
   "cell_type": "code",
   "execution_count": null,
   "metadata": {},
   "outputs": [],
   "source": []
  },
  {
   "cell_type": "code",
   "execution_count": null,
   "metadata": {},
   "outputs": [],
   "source": []
  }
 ],
 "metadata": {
  "accelerator": "GPU",
  "colab": {
   "machine_shape": "hm",
   "provenance": [
    {
     "file_id": "1thd-ye6NP940jbZWhPrscILy0D1Rqsry",
     "timestamp": 1681028456346
    },
    {
     "file_id": "1TA15vw2aI1984ni02FZa5Nk0OT6USqfr",
     "timestamp": 1634113003454
    },
    {
     "file_id": "1WGioEGMnXIUxucy4gRDxaq0tusCBqIy2",
     "timestamp": 1633618515176
    },
    {
     "file_id": "1YxGpf2YNNVscX8ygGSJ7xQ-lOrCU0i6V",
     "timestamp": 1633549495406
    },
    {
     "file_id": "16AW6mdq9-h3GbKpESE7c4gXYeygii1i0",
     "timestamp": 1619087606748
    }
   ]
  },
  "gpuClass": "standard",
  "kernelspec": {
   "display_name": "Python 3 (ipykernel)",
   "language": "python",
   "name": "python3"
  },
  "language_info": {
   "codemirror_mode": {
    "name": "ipython",
    "version": 3
   },
   "file_extension": ".py",
   "mimetype": "text/x-python",
   "name": "python",
   "nbconvert_exporter": "python",
   "pygments_lexer": "ipython3",
   "version": "3.11.3"
  }
 },
 "nbformat": 4,
 "nbformat_minor": 1
}
